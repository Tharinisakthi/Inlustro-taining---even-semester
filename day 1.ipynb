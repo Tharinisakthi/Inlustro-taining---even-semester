{
  "nbformat": 4,
  "nbformat_minor": 0,
  "metadata": {
    "colab": {
      "provenance": []
    },
    "kernelspec": {
      "name": "python3",
      "display_name": "Python 3"
    },
    "language_info": {
      "name": "python"
    }
  },
  "cells": [
    {
      "cell_type": "code",
      "execution_count": 279,
      "metadata": {
        "colab": {
          "base_uri": "https://localhost:8080/"
        },
        "id": "UGoxD0MceIeI",
        "outputId": "cd167188-32ba-4e9c-e3d3-36f11f940219"
      },
      "outputs": [
        {
          "output_type": "stream",
          "name": "stdout",
          "text": [
            "tharani\n",
            "tharani\n"
          ]
        }
      ],
      "source": [
        "x=\"tharani\"\n",
        "y=\"tharani\"\n",
        "print(x)\n",
        "print(y)\n"
      ]
    },
    {
      "cell_type": "code",
      "source": [
        "a=5\n",
        "b=10\n",
        "print(a+b)"
      ],
      "metadata": {
        "colab": {
          "base_uri": "https://localhost:8080/"
        },
        "id": "Wa5RxEJAfrqo",
        "outputId": "587d1017-c3ef-4384-9c2b-4210d4d77b99"
      },
      "execution_count": 280,
      "outputs": [
        {
          "output_type": "stream",
          "name": "stdout",
          "text": [
            "15\n"
          ]
        }
      ]
    },
    {
      "cell_type": "code",
      "source": [
        "price=99.99\n",
        "print(price)"
      ],
      "metadata": {
        "colab": {
          "base_uri": "https://localhost:8080/"
        },
        "id": "i21PQepcf-4Y",
        "outputId": "2b655414-bb5e-4145-e5b9-68b9820fb070"
      },
      "execution_count": 281,
      "outputs": [
        {
          "output_type": "stream",
          "name": "stdout",
          "text": [
            "99.99\n"
          ]
        }
      ]
    },
    {
      "cell_type": "code",
      "source": [
        "is_valid=True\n",
        "print(is_valid)"
      ],
      "metadata": {
        "colab": {
          "base_uri": "https://localhost:8080/"
        },
        "id": "Sdi-_EUug0A4",
        "outputId": "31bc2c59-18e7-4632-8554-39811f67904b"
      },
      "execution_count": 282,
      "outputs": [
        {
          "output_type": "stream",
          "name": "stdout",
          "text": [
            "True\n"
          ]
        }
      ]
    },
    {
      "cell_type": "code",
      "source": [
        "x,y,z=10,20,30\n",
        "print(x,y,z)\n"
      ],
      "metadata": {
        "colab": {
          "base_uri": "https://localhost:8080/"
        },
        "id": "QSnDV3Heg_YP",
        "outputId": "1ef27d28-771d-4401-c4fc-b3f22da0520c"
      },
      "execution_count": 283,
      "outputs": [
        {
          "output_type": "stream",
          "name": "stdout",
          "text": [
            "10 20 30\n"
          ]
        }
      ]
    },
    {
      "cell_type": "code",
      "source": [
        "p=q=r=10\n",
        "print(p,q,r)"
      ],
      "metadata": {
        "colab": {
          "base_uri": "https://localhost:8080/"
        },
        "id": "XEbQIi3dher3",
        "outputId": "84523013-0d94-4101-95f0-d16eef3ff36d"
      },
      "execution_count": 284,
      "outputs": [
        {
          "output_type": "stream",
          "name": "stdout",
          "text": [
            "10 10 10\n"
          ]
        }
      ]
    },
    {
      "cell_type": "code",
      "source": [
        "age=18\n",
        "print(18)\n",
        "age=35\n",
        "print(35)\n"
      ],
      "metadata": {
        "colab": {
          "base_uri": "https://localhost:8080/"
        },
        "id": "IyaMgM2siCwn",
        "outputId": "045dd809-3700-4b3a-d82b-de263a19fceb"
      },
      "execution_count": 285,
      "outputs": [
        {
          "output_type": "stream",
          "name": "stdout",
          "text": [
            "18\n",
            "35\n"
          ]
        }
      ]
    },
    {
      "cell_type": "code",
      "source": [
        "message =\"hello,word\"\n",
        "print(len(message))"
      ],
      "metadata": {
        "colab": {
          "base_uri": "https://localhost:8080/"
        },
        "id": "SJ0OBsX1kK2I",
        "outputId": "91bac091-21a0-4abe-abf8-c554cf83ad2f"
      },
      "execution_count": 286,
      "outputs": [
        {
          "output_type": "stream",
          "name": "stdout",
          "text": [
            "10\n"
          ]
        }
      ]
    },
    {
      "cell_type": "code",
      "source": [
        "data=42\n",
        "print(data)\n",
        "data=str(data)\n",
        "print(data)"
      ],
      "metadata": {
        "colab": {
          "base_uri": "https://localhost:8080/"
        },
        "id": "K3SIvRMblJRw",
        "outputId": "30237b6c-26f4-45a4-eb05-149aa88835ac"
      },
      "execution_count": 287,
      "outputs": [
        {
          "output_type": "stream",
          "name": "stdout",
          "text": [
            "42\n",
            "42\n"
          ]
        }
      ]
    },
    {
      "cell_type": "code",
      "source": [
        "value=50\n",
        "del value"
      ],
      "metadata": {
        "id": "HbNTBKWVlmmY"
      },
      "execution_count": 288,
      "outputs": []
    },
    {
      "cell_type": "code",
      "source": [
        "num=5\n",
        "if num>0:\n",
        "  print(\"positive number\")"
      ],
      "metadata": {
        "colab": {
          "base_uri": "https://localhost:8080/"
        },
        "id": "YpJuHGV2ntVJ",
        "outputId": "ceeb0bd8-182d-430d-fd91-17990d61c3c3"
      },
      "execution_count": 289,
      "outputs": [
        {
          "output_type": "stream",
          "name": "stdout",
          "text": [
            "positive number\n"
          ]
        }
      ]
    },
    {
      "cell_type": "code",
      "source": [
        "age=20\n",
        "if age>18:\n",
        "  print(\"Eligible to vote\")\n",
        "else:\n",
        "    print(\"not\")"
      ],
      "metadata": {
        "colab": {
          "base_uri": "https://localhost:8080/"
        },
        "id": "amYDeAJ0rEOo",
        "outputId": "db265b7d-abad-4d10-9bcc-c0987af78615"
      },
      "execution_count": 290,
      "outputs": [
        {
          "output_type": "stream",
          "name": "stdout",
          "text": [
            "Eligible to vote\n"
          ]
        }
      ]
    },
    {
      "cell_type": "code",
      "source": [
        "num=-3\n",
        "if num>0:\n",
        "  print(\"Postive\")\n",
        "elif num<0:\n",
        "  print (\"negative\")\n",
        "else:\n",
        "  print(\"zero\")\n"
      ],
      "metadata": {
        "colab": {
          "base_uri": "https://localhost:8080/"
        },
        "id": "rSgCIKRArluy",
        "outputId": "28d6975b-25a7-4ae6-f348-f05bf466ffaf"
      },
      "execution_count": 291,
      "outputs": [
        {
          "output_type": "stream",
          "name": "stdout",
          "text": [
            "negative\n"
          ]
        }
      ]
    },
    {
      "cell_type": "code",
      "source": [
        "num=7\n",
        "if num%2==0:\n",
        "  print(\"Even\")\n",
        "else:\n",
        "  print(\"odd\")"
      ],
      "metadata": {
        "colab": {
          "base_uri": "https://localhost:8080/"
        },
        "id": "PP96gxM5rl-R",
        "outputId": "263db7e6-3fa8-4ac7-cdfd-ece98f95bfa6"
      },
      "execution_count": 292,
      "outputs": [
        {
          "output_type": "stream",
          "name": "stdout",
          "text": [
            "odd\n"
          ]
        }
      ]
    },
    {
      "cell_type": "code",
      "source": [],
      "metadata": {
        "id": "2_d1qJQ4tnsx"
      },
      "execution_count": 292,
      "outputs": []
    },
    {
      "cell_type": "code",
      "source": [],
      "metadata": {
        "id": "yUZKOGy2to3J"
      },
      "execution_count": 292,
      "outputs": []
    },
    {
      "cell_type": "code",
      "source": [
        "num=8\n",
        "if num>0:\n",
        "  if num%2==0:\n",
        "    print(\"positive and even\")"
      ],
      "metadata": {
        "colab": {
          "base_uri": "https://localhost:8080/"
        },
        "id": "JBeNJgsMrmGI",
        "outputId": "25a6b429-10bc-455f-bb4a-3f78d63340d8"
      },
      "execution_count": 293,
      "outputs": [
        {
          "output_type": "stream",
          "name": "stdout",
          "text": [
            "positive and even\n"
          ]
        }
      ]
    },
    {
      "cell_type": "code",
      "source": [
        "x=10\n",
        "if x==10:\n",
        "  print(\"pyton is cool\")"
      ],
      "metadata": {
        "colab": {
          "base_uri": "https://localhost:8080/"
        },
        "id": "9ruJ2HdgtC1Q",
        "outputId": "793f127a-6b59-4924-c1e8-12998c68bea9"
      },
      "execution_count": 294,
      "outputs": [
        {
          "output_type": "stream",
          "name": "stdout",
          "text": [
            "pyton is cool\n"
          ]
        }
      ]
    },
    {
      "cell_type": "code",
      "source": [
        "num=12\n",
        "print(\"Even\"if num%2==0 else \"odd\")"
      ],
      "metadata": {
        "colab": {
          "base_uri": "https://localhost:8080/"
        },
        "id": "8Nak7MpJs5GR",
        "outputId": "87797efb-12d3-4747-ece7-1c191c2ce3ca"
      },
      "execution_count": 295,
      "outputs": [
        {
          "output_type": "stream",
          "name": "stdout",
          "text": [
            "Even\n"
          ]
        }
      ]
    },
    {
      "cell_type": "code",
      "source": [
        "text=\"I love pyton programming\"\n",
        "if\"pyton\"in text:\n",
        "  print(\"string contain pyton\")"
      ],
      "metadata": {
        "colab": {
          "base_uri": "https://localhost:8080/"
        },
        "id": "juzYV_tatp4p",
        "outputId": "80fd6aeb-fe92-4d8e-c887-7d11e6ba6b92"
      },
      "execution_count": 296,
      "outputs": [
        {
          "output_type": "stream",
          "name": "stdout",
          "text": [
            "string contain pyton\n"
          ]
        }
      ]
    },
    {
      "cell_type": "code",
      "source": [
        "year=2024\n",
        "if (year%4==0 and year%100!=0)or(year%400==0):\n",
        "  print(\"Leap year\")\n",
        "else:\n",
        "  print(\"not a leap year\")"
      ],
      "metadata": {
        "colab": {
          "base_uri": "https://localhost:8080/"
        },
        "id": "iHVVk_2NusXx",
        "outputId": "2cb31ede-84cd-45a0-a687-f7420a6b25f7"
      },
      "execution_count": 297,
      "outputs": [
        {
          "output_type": "stream",
          "name": "stdout",
          "text": [
            "Leap year\n"
          ]
        }
      ]
    },
    {
      "cell_type": "code",
      "source": [
        "num=15\n",
        "if num%3==0 and num%5==0:\n",
        "  print(\"Divisible by both 3 and 5\")\n",
        "else:\n",
        "  print(\"Not divisible by both 3 and 5\")"
      ],
      "metadata": {
        "colab": {
          "base_uri": "https://localhost:8080/"
        },
        "id": "aRYFrssMuG0I",
        "outputId": "561cb298-a4c6-4c54-a858-078d348de756"
      },
      "execution_count": 298,
      "outputs": [
        {
          "output_type": "stream",
          "name": "stdout",
          "text": [
            "Divisible by both 3 and 5\n"
          ]
        }
      ]
    }
  ]
}